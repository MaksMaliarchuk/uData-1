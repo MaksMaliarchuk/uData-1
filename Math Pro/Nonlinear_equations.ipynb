{
 "cells": [
  {
   "cell_type": "code",
   "execution_count": 79,
   "metadata": {},
   "outputs": [],
   "source": [
    "import numpy as np\n",
    "import pandas as pd\n",
    "import matplotlib.pyplot as plt\n",
    "import matplotlib.lines as mlines\n",
    "import math"
   ]
  },
  {
   "cell_type": "markdown",
   "metadata": {},
   "source": [
    "## Выбираем вариант (n) и рисуем график уравнения"
   ]
  },
  {
   "cell_type": "code",
   "execution_count": 80,
   "metadata": {},
   "outputs": [
    {
     "data": {
      "image/png": "[encoded data removed]",
      "text/plain": [
       "<Figure size 432x288 with 1 Axes>"
      ]
     },
     "metadata": {},
     "output_type": "display_data"
    }
   ],
   "source": [
    "n = 7\n",
    "x = np.arange(0, 1, 0.01)\n",
    "y = x**(n+40) + x - 1\n",
    "plt.plot(x, y)\n",
    "ax = plt.gca()\n",
    "l = mlines.Line2D([0,1], [0,0])\n",
    "ax.add_line(l)\n",
    "plt.show()"
   ]
  },
  {
   "cell_type": "markdown",
   "metadata": {},
   "source": [
    "## Определяем функцию, ее производную и решаем с помощью метода Ньютона (метод касательных)"
   ]
  },
  {
   "cell_type": "code",
   "execution_count": 81,
   "metadata": {},
   "outputs": [
    {
     "name": "stdout",
     "output_type": "stream",
     "text": [
      "X: 0.9791666666666666      Y: 0.35092538852351884\n",
      "X: 0.9605444212656529      Y: 0.11131629724665437\n",
      "X: 0.9472566611480665      Y: 0.02559608855774842\n",
      "X: 0.9420190360029131      Y: 0.0023867751189925457\n",
      "X: 0.9414241147354391      Y: 2.5782511322791635e-05\n",
      "X: 0.9414175470320332      Y: 3.0828093411372492e-09\n",
      "X: 0.9414175462465465      Y: 2.220446049250313e-16\n",
      "Answer: 0.9414175462465465\n"
     ]
    }
   ],
   "source": [
    "def f(x):\n",
    "    return x**(n + 40) + x - 1\n",
    "def derived_1_f(x):\n",
    "    return (n+40) * x**(n+39) + 1\n",
    "def Newton(xo):\n",
    "    e = 10**10\n",
    "    eps = 10 ** (-8)\n",
    "    i = 0\n",
    "    while e > eps:\n",
    "        x = xo - f(xo)/derived_1_f(xo)\n",
    "        print('X: ' + str(x) +'      ' + 'Y: '+ str(f(x)))\n",
    "        e = abs(x - xo)\n",
    "        xo = x\n",
    "        i += 1\n",
    "        if i == 50:\n",
    "            raise(Exception)\n",
    "    return x\n",
    "try:\n",
    "    x = Newton(1)\n",
    "    print('Answer: ' + str(x))\n",
    "except(Exception):\n",
    "    print(\"This method does not feel for this equation\")"
   ]
  },
  {
   "cell_type": "markdown",
   "metadata": {},
   "source": [
    "## Теперь метод простых итераций"
   ]
  },
  {
   "cell_type": "code",
   "execution_count": 82,
   "metadata": {},
   "outputs": [
    {
     "name": "stdout",
     "output_type": "stream",
     "text": [
      "X: 0.9929303495098489      Y: 0.7093754422573015\n",
      "X: 0.2835549072525474      Y: -0.7164450927474526\n",
      "X: 1.0      Y: 1.0\n",
      "X: 0.0      Y: -1.0\n",
      "X: 1.0      Y: 1.0\n",
      "X: 0.0      Y: -1.0\n",
      "X: 1.0      Y: 1.0\n",
      "X: 0.0      Y: -1.0\n",
      "X: 1.0      Y: 1.0\n",
      "X: 0.0      Y: -1.0\n",
      "X: 1.0      Y: 1.0\n",
      "X: 0.0      Y: -1.0\n",
      "X: 1.0      Y: 1.0\n",
      "X: 0.0      Y: -1.0\n",
      "X: 1.0      Y: 1.0\n",
      "X: 0.0      Y: -1.0\n",
      "X: 1.0      Y: 1.0\n",
      "X: 0.0      Y: -1.0\n",
      "X: 1.0      Y: 1.0\n",
      "X: 0.0      Y: -1.0\n",
      "X: 1.0      Y: 1.0\n",
      "X: 0.0      Y: -1.0\n",
      "X: 1.0      Y: 1.0\n",
      "X: 0.0      Y: -1.0\n",
      "X: 1.0      Y: 1.0\n",
      "X: 0.0      Y: -1.0\n",
      "X: 1.0      Y: 1.0\n",
      "X: 0.0      Y: -1.0\n",
      "X: 1.0      Y: 1.0\n",
      "X: 0.0      Y: -1.0\n",
      "X: 1.0      Y: 1.0\n",
      "X: 0.0      Y: -1.0\n",
      "X: 1.0      Y: 1.0\n",
      "X: 0.0      Y: -1.0\n",
      "X: 1.0      Y: 1.0\n",
      "X: 0.0      Y: -1.0\n",
      "X: 1.0      Y: 1.0\n",
      "X: 0.0      Y: -1.0\n",
      "X: 1.0      Y: 1.0\n",
      "X: 0.0      Y: -1.0\n",
      "X: 1.0      Y: 1.0\n",
      "X: 0.0      Y: -1.0\n",
      "X: 1.0      Y: 1.0\n",
      "X: 0.0      Y: -1.0\n",
      "X: 1.0      Y: 1.0\n",
      "X: 0.0      Y: -1.0\n",
      "X: 1.0      Y: 1.0\n",
      "X: 0.0      Y: -1.0\n",
      "X: 1.0      Y: 1.0\n",
      "X: 0.0      Y: -1.0\n",
      "This method does not feel for this equation\n"
     ]
    }
   ],
   "source": [
    "def f1(x):\n",
    "    return x**(n+40) + x -1\n",
    "def fi(x):\n",
    "    return 1 - x**(n+40)\n",
    "def simple_iteration_method(xo):\n",
    "    eps = 10 ** (-8)\n",
    "    e = 10**10\n",
    "    i = 0\n",
    "    while e > eps:\n",
    "        x = fi(xo)\n",
    "        print('X: ' + str(x) +'      ' + 'Y: '+ str(f1(x)))\n",
    "        e = abs(x - xo)\n",
    "        xo = x\n",
    "        i += 1\n",
    "        if i == 50:\n",
    "            raise(Exception)\n",
    "    return x\n",
    "try:\n",
    "    x = simple_iteration_method(0.9)\n",
    "    print('Answer: ' + str(x))\n",
    "except(Exception):\n",
    "    print(\"This method does not feel for this equation\")"
   ]
  },
  {
   "cell_type": "markdown",
   "metadata": {},
   "source": [
    "## Метод Ньютона для нескольких уравнений"
   ]
  },
  {
   "cell_type": "code",
   "execution_count": 83,
   "metadata": {},
   "outputs": [
    {
     "name": "stdout",
     "output_type": "stream",
     "text": [
      "[-1.03210189  1.09943035]\n"
     ]
    }
   ],
   "source": [
    "def function_f(x, y):\n",
    "    return x**(n+17) + x*y - 1\n",
    "def function_g(x, y):\n",
    "    return y**(n+1) + x*y - 1\n",
    "def derivate_f_x(x, y):\n",
    "    return (n+17) * x**(n+16) + y\n",
    "def derivate_f_y(x, y):\n",
    "    return x\n",
    "def derivate_g_x(x, y):\n",
    "    return y\n",
    "def derivate_g_y(x, y):\n",
    "    return (n+1) * y**n + x\n",
    "def Newton_2(xo):\n",
    "    eps = 10 ** (-8)\n",
    "    e = 10**10\n",
    "    i = 0\n",
    "    while e > eps:\n",
    "        A = np.array([derivate_f_x(xo[0], xo[1]), derivate_f_y(xo[0], xo[1]),\n",
    "             derivate_g_x(xo[0], xo[1]), derivate_g_y(xo[0], xo[1])]).reshape(2, 2)\n",
    "        b = -np.array([function_f(xo[0], xo[1]), function_g(xo[0], xo[1])])\n",
    "        del_x = np.linalg.solve(A, b)\n",
    "        x = xo + del_x\n",
    "        e = abs(x - xo).max()\n",
    "        xo = x\n",
    "        i += 1\n",
    "        if i == 50:\n",
    "            raise(Exception)\n",
    "    return x\n",
    "try:\n",
    "    x = Newton_2(np.array([-2, 2]))\n",
    "    print(x)\n",
    "except(Exception):\n",
    "    print(\"This method does not feel for this equation\")\n",
    "        "
   ]
  },
  {
   "cell_type": "markdown",
   "metadata": {},
   "source": [
    "## Метод простых итераций для нескольких уравнений "
   ]
  },
  {
   "cell_type": "code",
   "execution_count": 84,
   "metadata": {},
   "outputs": [
    {
     "name": "stdout",
     "output_type": "stream",
     "text": [
      "[0.93919853 0.82846126]\n"
     ]
    }
   ],
   "source": [
    "def fi_f(x, y):\n",
    "    return math.pow(1 - x*y, n+17)\n",
    "def fi_g(x, y):\n",
    "    return math.pow(1 - x*y, n+1)\n",
    "def simple_iteration_method_2(xo):\n",
    "    eps = 10 ** (-8)\n",
    "    e = 10**10\n",
    "    i = 0\n",
    "    while e > eps:\n",
    "        x[0] = fi_f(xo[0], xo[1])\n",
    "        x[1] = fi_g(xo[0], xo[1])\n",
    "        e = abs(x - xo).max()\n",
    "        xo = x\n",
    "        i += 1\n",
    "        if i == 50:\n",
    "            raise(Exception)\n",
    "    return x\n",
    "try:\n",
    "    x = Newton_2(np.array([1, 1]))\n",
    "    print(x)\n",
    "except(Exception):\n",
    "    print(\"This method does not feel for this equation\")"
   ]
  },
  {
   "cell_type": "code",
   "execution_count": null,
   "metadata": {},
   "outputs": [],
   "source": []
  },
  {
   "cell_type": "code",
   "execution_count": null,
   "metadata": {},
   "outputs": [],
   "source": []
  }
 ],
 "metadata": {
  "kernelspec": {
   "display_name": "Python 3",
   "language": "python",
   "name": "python3"
  },
  "language_info": {
   "codemirror_mode": {
    "name": "ipython",
    "version": 3
   },
   "file_extension": ".py",
   "mimetype": "text/x-python",
   "name": "python",
   "nbconvert_exporter": "python",
   "pygments_lexer": "ipython3",
   "version": "3.6.5"
  }
 },
 "nbformat": 4,
 "nbformat_minor": 2
}
