{
 "cells": [
  {
   "cell_type": "code",
   "execution_count": 58,
   "metadata": {},
   "outputs": [],
   "source": [
    "import numpy as np\n",
    "import matplotlib.pyplot as plt\n",
    "import matplotlib.lines as mlines\n",
    "import math"
   ]
  },
  {
   "cell_type": "markdown",
   "metadata": {},
   "source": [
    "## Выбираем вариант (n) и рисуем график уравнения"
   ]
  },
  {
   "cell_type": "code",
   "execution_count": 59,
   "metadata": {},
   "outputs": [
    {
     "data": {
      "image/png": "[encoded data removed]",
      "text/plain": [
       "<Figure size 432x288 with 1 Axes>"
      ]
     },
     "metadata": {},
     "output_type": "display_data"
    }
   ],
   "source": [
    "n = 7\n",
    "x = np.arange(0, 1, 0.01)\n",
    "y = x**(n+40) + x - 1\n",
    "plt.plot(x, y)\n",
    "ax = plt.gca()\n",
    "l = mlines.Line2D([0,1], [0,0])\n",
    "ax.add_line(l)\n",
    "plt.show()"
   ]
  },
  {
   "cell_type": "markdown",
   "metadata": {},
   "source": [
    "## Определяем функцию, ее производную и решаем с помощью метода Ньютона (метод касательных)"
   ]
  },
  {
   "cell_type": "code",
   "execution_count": 60,
   "metadata": {},
   "outputs": [
    {
     "name": "stdout",
     "output_type": "stream",
     "text": [
      "Answer: 0.9414175462465465\n",
      "7\n",
      "7\n"
     ]
    }
   ],
   "source": [
    "def f(x):\n",
    "    return x**(n + 40) + x - 1\n",
    "def derived_1_f(x):\n",
    "    return (n+40) * x**(n+39) + 1\n",
    "def Newton(xo, X, Y):\n",
    "    e = 10**10\n",
    "    eps = 10 ** (-8)\n",
    "    i = 0\n",
    "    while e > eps:\n",
    "        x = xo - f(xo)/derived_1_f(xo)\n",
    "        X = np.append(X, x)\n",
    "        Y = np.append(Y, f(x))\n",
    "        e = abs(x - xo)\n",
    "        xo = x\n",
    "        i += 1\n",
    "        if i == 50:\n",
    "            raise(Exception)\n",
    "    return x, X, Y\n",
    "try:\n",
    "    X = np.array([])\n",
    "    Y = np.array([])\n",
    "    x, X, Y = Newton(1, X, Y)\n",
    "    print('Answer: ' + str(x))\n",
    "    print(X.size)\n",
    "    print(Y.size)\n",
    "except(Exception):\n",
    "    print(\"This method does not feel for this equation\")"
   ]
  },
  {
   "cell_type": "code",
   "execution_count": 62,
   "metadata": {},
   "outputs": [
    {
     "data": {
      "image/png": "[encoded data removed]",
      "text/plain": [
       "<Figure size 432x288 with 1 Axes>"
      ]
     },
     "metadata": {},
     "output_type": "display_data"
    },
    {
     "data": {
      "image/png": "[encoded data removed]",
      "text/plain": [
       "<Figure size 432x288 with 1 Axes>"
      ]
     },
     "metadata": {},
     "output_type": "display_data"
    }
   ],
   "source": [
    "x = np.arange(0, 1, 0.01)\n",
    "y = x**(n+40) + x - 1\n",
    "plt.plot(x, y)\n",
    "ax = plt.gca()\n",
    "l = mlines.Line2D([0,1], [0,0])\n",
    "ax.add_line(l)\n",
    "plt.show()\n",
    "plt.scatter(X, Y)\n",
    "plt.show()"
   ]
  },
  {
   "cell_type": "markdown",
   "metadata": {},
   "source": [
    "## Теперь метод простых итераций"
   ]
  },
  {
   "cell_type": "code",
   "execution_count": 63,
   "metadata": {},
   "outputs": [
    {
     "name": "stdout",
     "output_type": "stream",
     "text": [
      "X: 0.9521895354084079      Y: 0.052189535408408094\n",
      "X: 0.9373563890830401      Y: -0.014833146325367808\n",
      "X: 0.9427610549165343      Y: 0.005404665833494304\n",
      "X: 0.9409529471216248      Y: -0.0018081077949095858\n",
      "X: 0.9415757858892024      Y: 0.000622838767577516\n",
      "X: 0.941363370254041      Y: -0.00021241563516138928\n",
      "X: 0.9414360613985876      Y: 7.269114454655501e-05\n",
      "X: 0.9414112146777008      Y: -2.4846720886650964e-05\n",
      "X: 0.9414197109840281      Y: 8.496306327376857e-06\n",
      "X: 0.9414168060791305      Y: -2.9049048976270697e-06\n",
      "X: 0.9414177993185768      Y: 9.932394462452976e-07\n",
      "X: 0.9414174597174957      Y: -3.3960108103414655e-07\n",
      "X: 0.9414175758320181      Y: 1.1611452244153497e-07\n",
      "X: 0.9414175361308573      Y: -3.97011606922959e-08\n",
      "X: 0.9414175497052418      Y: 1.357438450533266e-08\n",
      "X: 0.9414175450639701      Y: -4.641271589278517e-09\n",
      "Answer: 0.9414175450639701\n"
     ]
    }
   ],
   "source": [
    "def f1(x):\n",
    "    return x**(n+40) + x -1\n",
    "def fi(x):\n",
    "    return math.pow(1 - x, 1/(n+40))\n",
    "def simple_iteration_method(xo):\n",
    "    eps = 10 ** (-8)\n",
    "    e = 10**10\n",
    "    i = 0\n",
    "    while e > eps:\n",
    "        x = fi(xo)\n",
    "        print('X: ' + str(x) +'      ' + 'Y: '+ str(f1(x)))\n",
    "        e = abs(x - xo)\n",
    "        xo = x\n",
    "        i += 1\n",
    "        if i == 50:\n",
    "            raise(Exception)\n",
    "    return x\n",
    "try:\n",
    "    x = simple_iteration_method(0.9)\n",
    "    print('Answer: ' + str(x))\n",
    "except(Exception):\n",
    "    print(\"This method does not feel for this equation\")"
   ]
  },
  {
   "cell_type": "markdown",
   "metadata": {},
   "source": [
    "## Метод Ньютона для нескольких уравнений"
   ]
  },
  {
   "cell_type": "code",
   "execution_count": 64,
   "metadata": {},
   "outputs": [
    {
     "name": "stdout",
     "output_type": "stream",
     "text": [
      "[-1.03210189  1.09943035]\n"
     ]
    }
   ],
   "source": [
    "def function_f(x, y):\n",
    "    return x**(n+17) + x*y - 1\n",
    "def function_g(x, y):\n",
    "    return y**(n+1) + x*y - 1\n",
    "def derivate_f_x(x, y):\n",
    "    return (n+17) * x**(n+16) + y\n",
    "def derivate_f_y(x, y):\n",
    "    return x\n",
    "def derivate_g_x(x, y):\n",
    "    return y\n",
    "def derivate_g_y(x, y):\n",
    "    return (n+1) * y**n + x\n",
    "def Newton_2(xo):\n",
    "    eps = 10 ** (-8)\n",
    "    e = 10**10\n",
    "    i = 0\n",
    "    while e > eps:\n",
    "        A = np.array([derivate_f_x(xo[0], xo[1]), derivate_f_y(xo[0], xo[1]),\n",
    "             derivate_g_x(xo[0], xo[1]), derivate_g_y(xo[0], xo[1])]).reshape(2, 2)\n",
    "        b = -np.array([function_f(xo[0], xo[1]), function_g(xo[0], xo[1])])\n",
    "        del_x = np.linalg.solve(A, b)\n",
    "        x = xo + del_x\n",
    "        e = abs(x - xo).max()\n",
    "        xo = x\n",
    "        i += 1\n",
    "        if i == 50:\n",
    "            raise(Exception)\n",
    "    return x\n",
    "try:\n",
    "    x = Newton_2(np.array([-2, 2]))\n",
    "    print(x)\n",
    "except(Exception):\n",
    "    print(\"This method does not feel for this equation\")\n",
    "        "
   ]
  },
  {
   "cell_type": "markdown",
   "metadata": {},
   "source": [
    "## Метод простых итераций для нескольких уравнений "
   ]
  },
  {
   "cell_type": "code",
   "execution_count": 22,
   "metadata": {},
   "outputs": [
    {
     "name": "stdout",
     "output_type": "stream",
     "text": [
      "[0.97153194 0.91700404]\n",
      "[0.91182097 0.79764189]\n",
      "[0.91182097 0.79764189]\n"
     ]
    }
   ],
   "source": [
    "def fi_f(x, y):\n",
    "    return math.pow(1 - x*y, 1/(n+17))\n",
    "def fi_g(x, y):\n",
    "    return math.pow(1 - x*y, 1/(n+1))\n",
    "def simple_iteration_method_2(xo):\n",
    "    eps = 10 ** (-8)\n",
    "    e = 10**10\n",
    "    i = 0\n",
    "    while e > eps:\n",
    "        x[0] = fi_f(xo[0], xo[1])\n",
    "        x[1] = fi_g(xo[0], xo[1])\n",
    "        print(x)\n",
    "        e = abs(x - xo).max()\n",
    "        xo = x\n",
    "        i += 1\n",
    "        if i == 50:\n",
    "            raise(Exception)\n",
    "    return x\n",
    "# try:\n",
    "x = simple_iteration_method_2(np.array([1, 0.5]))\n",
    "print(x)\n",
    "# except(Exception):\n",
    "#     print(\"This method does not feel for this equation\")"
   ]
  },
  {
   "cell_type": "code",
   "execution_count": null,
   "metadata": {},
   "outputs": [],
   "source": []
  },
  {
   "cell_type": "code",
   "execution_count": null,
   "metadata": {},
   "outputs": [],
   "source": []
  }
 ],
 "metadata": {
  "kernelspec": {
   "display_name": "Python 3",
   "language": "python",
   "name": "python3"
  },
  "language_info": {
   "codemirror_mode": {
    "name": "ipython",
    "version": 3
   },
   "file_extension": ".py",
   "mimetype": "text/x-python",
   "name": "python",
   "nbconvert_exporter": "python",
   "pygments_lexer": "ipython3",
   "version": "3.6.5"
  }
 },
 "nbformat": 4,
 "nbformat_minor": 2
}
