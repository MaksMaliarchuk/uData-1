{
 "cells": [
  {
   "cell_type": "code",
   "execution_count": 1,
   "metadata": {},
   "outputs": [],
   "source": [
    "%matplotlib inline"
   ]
  },
  {
   "cell_type": "code",
   "execution_count": 2,
   "metadata": {},
   "outputs": [],
   "source": [
    "import numpy as np\n",
    "import scipy.stats as sts"
   ]
  },
  {
   "cell_type": "code",
   "execution_count": 3,
   "metadata": {},
   "outputs": [],
   "source": [
    "import matplotlib.pyplot as plt\n",
    "import seaborn as sns\n",
    "sns.set()"
   ]
  },
  {
   "cell_type": "code",
   "execution_count": 4,
   "metadata": {},
   "outputs": [
    {
     "data": {
      "text/plain": [
       "Power_divergenceResult(statistic=0.54, pvalue=0.7633794943368533)"
      ]
     },
     "execution_count": 4,
     "metadata": {},
     "output_type": "execute_result"
    }
   ],
   "source": [
    "n = 100\n",
    "actual = np.array([22, 53, 25])\n",
    "# prob_m = (actual * [2, 1, 0] / (n * 2)).sum()\n",
    "prob_m = 0.5\n",
    "prob_i = np.array([prob_m * prob_m, 2 * prob_m * (1 - prob_m), (1 - prob_m) * (1 - prob_m)])\n",
    "expect = prob_i * n\n",
    "# chi2_c = ((actual - expect) ** 2 / expect).sum()\n",
    "sts.chisquare(actual, expect)"
   ]
  },
  {
   "cell_type": "code",
   "execution_count": 5,
   "metadata": {},
   "outputs": [
    {
     "data": {
      "text/plain": [
       "Power_divergenceResult(statistic=9.189136689774069, pvalue=0.0024345568963482717)"
      ]
     },
     "execution_count": 5,
     "metadata": {},
     "output_type": "execute_result"
    }
   ],
   "source": [
    "n = 100\n",
    "actual = np.array([22, 33, 45])\n",
    "prob_m = (actual * [2, 1, 0] / (n * 2)).sum()\n",
    "prob_i = np.array([prob_m * prob_m, 2 * prob_m * (1 - prob_m), (1 - prob_m) * (1 - prob_m)])\n",
    "expect = prob_i * n\n",
    "# chi2_c = ((actual - expect) ** 2 / expect).sum()\n",
    "# в сложной теореме уменьшаем количество степеней свободы. в даном случае остается только prob_m как независимая величина\n",
    "# потому оставляем ddof = 1 (dof = k - 1 - ddof)\n",
    "sts.chisquare(actual, expect, ddof=1)"
   ]
  },
  {
   "cell_type": "code",
   "execution_count": 6,
   "metadata": {},
   "outputs": [
    {
     "data": {
      "text/plain": [
       "Power_divergenceResult(statistic=7.9399999999999995, pvalue=0.004835383460771927)"
      ]
     },
     "execution_count": 6,
     "metadata": {},
     "output_type": "execute_result"
    }
   ],
   "source": [
    "# no expect -- tests for discrete uniform dist\n",
    "sts.chisquare(actual, ddof=1)"
   ]
  },
  {
   "cell_type": "code",
   "execution_count": 7,
   "metadata": {},
   "outputs": [
    {
     "data": {
      "text/plain": [
       "0.010106582397520603"
      ]
     },
     "execution_count": 7,
     "metadata": {},
     "output_type": "execute_result"
    }
   ],
   "source": [
    "1 - sts.chi2.cdf(9.189136689774069, 2)"
   ]
  },
  {
   "cell_type": "code",
   "execution_count": 8,
   "metadata": {},
   "outputs": [
    {
     "data": {
      "text/plain": [
       "array([ 0.13673098, -0.07166001,  1.14158069, -0.72918768,  2.49915947,\n",
       "        0.91571889,  1.48833492,  0.48811653,  1.37864616,  1.09584196,\n",
       "       -0.76438221, -0.89487176,  0.64502578, -0.30490654, -1.15803808,\n",
       "        0.79850357,  0.03343979, -2.13904223,  0.80016972,  1.91986963,\n",
       "        0.14673721,  1.2704987 ,  0.71971905, -0.66667997,  1.14067926,\n",
       "        1.58710411, -1.05269471,  1.82529471, -1.21349696,  0.05868032,\n",
       "        0.56933015, -0.18474935, -1.26089421, -0.19037336,  2.37011442,\n",
       "        1.1140025 ,  1.39959893,  0.42615074, -1.68670989,  1.03268341,\n",
       "       -0.34996076,  0.98091835,  0.01628115,  2.60307322, -1.0455606 ,\n",
       "        0.98954613,  0.96379356, -0.5558761 ,  0.59389231,  0.04525581,\n",
       "        0.14249779,  0.88029015,  0.93997104, -0.37808216,  0.68952304,\n",
       "       -0.35132984,  0.60675231, -0.74365931, -0.72147506, -0.44290919,\n",
       "        0.09499158,  0.37307556, -2.21971663, -0.39829182, -2.51876542,\n",
       "        0.40676738,  1.54350318, -0.17985468,  0.07801737,  1.33807659,\n",
       "       -0.09429993,  0.34722423, -0.62986748, -0.50835457,  0.66360244,\n",
       "       -0.91321858, -0.23748178, -0.64832243, -2.7228639 ,  0.83637748,\n",
       "        0.35069636, -0.24317953, -0.19070341,  1.11657313, -1.27383717,\n",
       "        2.28806794, -1.26987276,  0.85350255, -0.19433647,  0.89325282,\n",
       "        0.23783087,  1.35685221, -0.07004158, -0.19413795,  2.35308917,\n",
       "        0.7854284 , -0.42544375,  0.351489  ,  0.32733379, -0.46251435])"
      ]
     },
     "execution_count": 8,
     "metadata": {},
     "output_type": "execute_result"
    }
   ],
   "source": [
    "observed = sts.norm.rvs(0, 1, 100)\n",
    "observed"
   ]
  },
  {
   "cell_type": "code",
   "execution_count": 9,
   "metadata": {},
   "outputs": [
    {
     "name": "stderr",
     "output_type": "stream",
     "text": [
      "C:\\dev\\Anaconda3\\lib\\site-packages\\matplotlib\\axes\\_axes.py:6462: UserWarning: The 'normed' kwarg is deprecated, and has been replaced by the 'density' kwarg.\n",
      "  warnings.warn(\"The 'normed' kwarg is deprecated, and has been \"\n"
     ]
    },
    {
     "data": {
      "text/plain": [
       "<matplotlib.axes._subplots.AxesSubplot at 0x1b747f79668>"
      ]
     },
     "execution_count": 9,
     "metadata": {},
     "output_type": "execute_result"
    },
    {
     "data": {
      "image/png": "[encoded data removed]",
      "text/plain": [
       "<Figure size 432x288 with 1 Axes>"
      ]
     },
     "metadata": {},
     "output_type": "display_data"
    }
   ],
   "source": [
    "bins = np.histogram(observed, bins='auto')\n",
    "sns.distplot(observed, bins=bins[1], kde=False)"
   ]
  },
  {
   "cell_type": "code",
   "execution_count": 10,
   "metadata": {},
   "outputs": [
    {
     "data": {
      "text/plain": [
       "(array([ 3,  2,  5, 11, 21, 17, 20, 12,  4,  5], dtype=int64),\n",
       " array([-2.7228639 , -2.19027019, -1.65767648, -1.12508277, -0.59248906,\n",
       "        -0.05989534,  0.47269837,  1.00529208,  1.53788579,  2.07047951,\n",
       "         2.60307322]))"
      ]
     },
     "execution_count": 10,
     "metadata": {},
     "output_type": "execute_result"
    }
   ],
   "source": [
    "bins"
   ]
  },
  {
   "cell_type": "code",
   "execution_count": 11,
   "metadata": {},
   "outputs": [
    {
     "data": {
      "text/plain": [
       "[-inf,\n",
       " -2.1902701923427417,\n",
       " -1.6576764799702302,\n",
       " -1.1250827675977189,\n",
       " -0.5924890552252076,\n",
       " -0.05989534285269604,\n",
       " 0.47269836951981503,\n",
       " 1.005292081892326,\n",
       " 1.5378857942648376,\n",
       " 2.070479506637349,\n",
       " inf]"
      ]
     },
     "execution_count": 11,
     "metadata": {},
     "output_type": "execute_result"
    }
   ],
   "source": [
    "prob_bins = list(bins[1])\n",
    "prob_bins[0] = -np.inf\n",
    "prob_bins[-1] = np.inf\n",
    "prob_bins"
   ]
  },
  {
   "cell_type": "code",
   "execution_count": 12,
   "metadata": {},
   "outputs": [
    {
     "data": {
      "text/plain": [
       "array([0.01425232, 0.03443907, 0.08158559, 0.14648459, 0.19935792,\n",
       "       0.20566631, 0.16083608, 0.09533984, 0.04283454, 0.01920373])"
      ]
     },
     "execution_count": 12,
     "metadata": {},
     "output_type": "execute_result"
    }
   ],
   "source": [
    "# для сложных гипотез заменить (0, 1) параметрами получеными из выборки (не _.std())\n",
    "func = sts.norm(0, 1).cdf\n",
    "prob_1 = func(prob_bins[:-1])\n",
    "prob_2 = func(prob_bins[1:])\n",
    "prob = prob_2 - prob_1\n",
    "prob"
   ]
  },
  {
   "cell_type": "code",
   "execution_count": 13,
   "metadata": {},
   "outputs": [
    {
     "data": {
      "text/plain": [
       "array([ 1.42523236,  3.44390682,  8.15855896, 14.64845924, 19.93579208,\n",
       "       20.56663104, 16.08360816,  9.53398427,  4.2834539 ,  1.92037316])"
      ]
     },
     "execution_count": 13,
     "metadata": {},
     "output_type": "execute_result"
    }
   ],
   "source": [
    "expected = prob * observed.size\n",
    "expected"
   ]
  },
  {
   "cell_type": "code",
   "execution_count": 14,
   "metadata": {},
   "outputs": [
    {
     "data": {
      "text/plain": [
       "Power_divergenceResult(statistic=11.701169595776996, pvalue=0.2306849282650228)"
      ]
     },
     "execution_count": 14,
     "metadata": {},
     "output_type": "execute_result"
    }
   ],
   "source": [
    "# соответственно здесь уменьшаем количество степеней свободы на 2 (ddof=2)\n",
    "assert bins[0].size == expected.size\n",
    "sts.chisquare(bins[0], expected)"
   ]
  }
 ],
 "metadata": {
  "kernelspec": {
   "display_name": "Python 3",
   "language": "python",
   "name": "python3"
  },
  "language_info": {
   "codemirror_mode": {
    "name": "ipython",
    "version": 3
   },
   "file_extension": ".py",
   "mimetype": "text/x-python",
   "name": "python",
   "nbconvert_exporter": "python",
   "pygments_lexer": "ipython3",
   "version": "3.6.5"
  }
 },
 "nbformat": 4,
 "nbformat_minor": 2
}
