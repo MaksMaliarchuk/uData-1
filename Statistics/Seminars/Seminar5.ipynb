{
 "cells": [
  {
   "cell_type": "markdown",
   "metadata": {},
   "source": [
    "# Построение доверительных интервалов"
   ]
  },
  {
   "cell_type": "code",
   "execution_count": 154,
   "metadata": {},
   "outputs": [],
   "source": [
    "import numpy as np\n",
    "import scipy.stats as st\n",
    "import math"
   ]
  },
  {
   "cell_type": "code",
   "execution_count": 155,
   "metadata": {},
   "outputs": [],
   "source": [
    "n = 100\n",
    "gamma=0.95\n",
    "p = 0.43\n",
    "xg= st.norm.ppf((1 + gamma) / 2)"
   ]
  },
  {
   "cell_type": "markdown",
   "metadata": {},
   "source": [
    "## По центральной предельной теореме"
   ]
  },
  {
   "cell_type": "code",
   "execution_count": 156,
   "metadata": {},
   "outputs": [
    {
     "name": "stdout",
     "output_type": "stream",
     "text": [
      "0.2659217287420774\n",
      "0.45407827125792255\n"
     ]
    }
   ],
   "source": [
    "x = np.random.binomial(1, p, n)\n",
    "th = x.mean()\n",
    "a1 = max(th - xg*(th*(1 - th)/n) ** 0.5, 0)\n",
    "a2 = min(th + xg*(th*(1 - th)/n) ** 0.5, 1)\n",
    "print(a1)\n",
    "print(a2)"
   ]
  },
  {
   "cell_type": "markdown",
   "metadata": {},
   "source": [
    "## Дельта метод"
   ]
  },
  {
   "cell_type": "code",
   "execution_count": 157,
   "metadata": {},
   "outputs": [
    {
     "name": "stdout",
     "output_type": "stream",
     "text": [
      "0.2692033266150449\n",
      "0.4561575214904965\n"
     ]
    }
   ],
   "source": [
    "b1 = (math.sin(math.asin(th**0.5) - xg /2 /n**0.5))**2\n",
    "b2 = (math.sin(math.asin(th**0.5) + xg /2 /n**0.5))**2\n",
    "print(b1)\n",
    "print(b2)"
   ]
  },
  {
   "cell_type": "markdown",
   "metadata": {},
   "source": [
    "## Простой бутстраппинг"
   ]
  },
  {
   "cell_type": "code",
   "execution_count": 158,
   "metadata": {},
   "outputs": [
    {
     "data": {
      "text/plain": [
       "array([0.27, 0.46])"
      ]
     },
     "execution_count": 158,
     "metadata": {},
     "output_type": "execute_result"
    }
   ],
   "source": [
    "n = 100\n",
    "M = 1000\n",
    "Y = np.random.binomial(1, th, (M, n))\n",
    "v = Y.mean(axis = 1)\n",
    "z = v - th\n",
    "q = np.percentile(z, [(1-gamma)*50, (1 + gamma)*50])\n",
    "q+=th\n",
    "q"
   ]
  },
  {
   "cell_type": "code",
   "execution_count": 159,
   "metadata": {},
   "outputs": [
    {
     "data": {
      "text/plain": [
       "array([0.27, 0.46])"
      ]
     },
     "execution_count": 159,
     "metadata": {},
     "output_type": "execute_result"
    }
   ],
   "source": [
    "t = np.percentile(v, [(1-gamma)*50, (1 + gamma)*50])\n",
    "t"
   ]
  },
  {
   "cell_type": "markdown",
   "metadata": {},
   "source": [
    "## Студентизированный бутстраппинг "
   ]
  },
  {
   "cell_type": "code",
   "execution_count": 161,
   "metadata": {},
   "outputs": [
    {
     "data": {
      "text/plain": [
       "array([0.2714904 , 0.46387615])"
      ]
     },
     "execution_count": 161,
     "metadata": {},
     "output_type": "execute_result"
    }
   ],
   "source": [
    "s = (th*(1 - th/n))**0.5 #сигма тета\n",
    "Y1 = np.random.binomial(1, th, (M, n))\n",
    "V = Y1.mean(axis = 1)\n",
    "ss = (V*(1 - V / n)) ** 0.5 #сигма по каждой строчке матрицы\n",
    "z = (V - th) / ss\n",
    "t = np.percentile(z, [(1-gamma)*50, (1 + gamma)*50])\n",
    "t = np.array( [t[1] * (-s), t[0] * (-s)])\n",
    "t += th\n",
    "t"
   ]
  },
  {
   "cell_type": "code",
   "execution_count": null,
   "metadata": {},
   "outputs": [],
   "source": []
  }
 ],
 "metadata": {
  "kernelspec": {
   "display_name": "Python 3",
   "language": "python",
   "name": "python3"
  },
  "language_info": {
   "codemirror_mode": {
    "name": "ipython",
    "version": 3
   },
   "file_extension": ".py",
   "mimetype": "text/x-python",
   "name": "python",
   "nbconvert_exporter": "python",
   "pygments_lexer": "ipython3",
   "version": "3.6.5"
  }
 },
 "nbformat": 4,
 "nbformat_minor": 2
}
