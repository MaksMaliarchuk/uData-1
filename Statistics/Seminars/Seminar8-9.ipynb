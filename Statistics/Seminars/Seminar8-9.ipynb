{
 "cells": [
  {
   "cell_type": "markdown",
   "metadata": {},
   "source": [
    "# Линейная регрессия"
   ]
  },
  {
   "cell_type": "code",
   "execution_count": 36,
   "metadata": {},
   "outputs": [],
   "source": [
    "import numpy as np\n",
    "import matplotlib.pyplot as plt\n",
    "import scipy.stats as st\n",
    "import pandas as pd\n",
    "import statsmodels.api as sm"
   ]
  },
  {
   "cell_type": "code",
   "execution_count": 37,
   "metadata": {},
   "outputs": [
    {
     "name": "stdout",
     "output_type": "stream",
     "text": [
      "[-1.30021591  0.45588466 -0.7951629  -0.76242799 -0.85031977  0.69394441\n",
      "  1.03356574 -0.64299798  2.96612258  0.21801341]\n",
      "[-3.69486228  0.99937403 -1.41458423  2.90729397 -3.6002672  -0.95710911\n",
      " -0.40902884  1.22137565 -2.76947489 -2.3160902 ]\n",
      "[ 2.15806494  1.8420923   0.5873251  -2.32692992  3.24070323  5.79069185\n",
      "  6.05102154 -1.32742038 13.73508155  4.64443952]\n"
     ]
    }
   ],
   "source": [
    "n = 10\n",
    "x1 = np.random.normal(0, 1, n)\n",
    "x2 = np.random.normal(0, 2, n)\n",
    "y = 2 + 3*x1 - x2 + np.random.normal(0, 0.5, 10)\n",
    "print(x1)\n",
    "print(x2)\n",
    "print(y)"
   ]
  },
  {
   "cell_type": "code",
   "execution_count": 66,
   "metadata": {},
   "outputs": [
    {
     "name": "stdout",
     "output_type": "stream",
     "text": [
      "3\n"
     ]
    },
    {
     "name": "stderr",
     "output_type": "stream",
     "text": [
      "c:\\programdata\\miniconda3\\lib\\site-packages\\scipy\\stats\\stats.py:1394: UserWarning: kurtosistest only valid for n>=20 ... continuing anyway, n=10\n",
      "  \"anyway, n=%i\" % int(n))\n"
     ]
    },
    {
     "data": {
      "text/html": [
       "<table class=\"simpletable\">\n",
       "<caption>OLS Regression Results</caption>\n",
       "<tr>\n",
       "  <th>Dep. Variable:</th>            <td>y</td>        <th>  R-squared:         </th> <td>   0.988</td>\n",
       "</tr>\n",
       "<tr>\n",
       "  <th>Model:</th>                   <td>OLS</td>       <th>  Adj. R-squared:    </th> <td>   0.985</td>\n",
       "</tr>\n",
       "<tr>\n",
       "  <th>Method:</th>             <td>Least Squares</td>  <th>  F-statistic:       </th> <td>   298.3</td>\n",
       "</tr>\n",
       "<tr>\n",
       "  <th>Date:</th>             <td>Wed, 20 Jun 2018</td> <th>  Prob (F-statistic):</th> <td>1.68e-07</td>\n",
       "</tr>\n",
       "<tr>\n",
       "  <th>Time:</th>                 <td>10:41:46</td>     <th>  Log-Likelihood:    </th> <td> -6.5767</td>\n",
       "</tr>\n",
       "<tr>\n",
       "  <th>No. Observations:</th>      <td>    10</td>      <th>  AIC:               </th> <td>   19.15</td>\n",
       "</tr>\n",
       "<tr>\n",
       "  <th>Df Residuals:</th>          <td>     7</td>      <th>  BIC:               </th> <td>   20.06</td>\n",
       "</tr>\n",
       "<tr>\n",
       "  <th>Df Model:</th>              <td>     2</td>      <th>                     </th>     <td> </td>   \n",
       "</tr>\n",
       "<tr>\n",
       "  <th>Covariance Type:</th>      <td>nonrobust</td>    <th>                     </th>     <td> </td>   \n",
       "</tr>\n",
       "</table>\n",
       "<table class=\"simpletable\">\n",
       "<tr>\n",
       "   <td></td>     <th>coef</th>     <th>std err</th>      <th>t</th>      <th>P>|t|</th>  <th>[0.025</th>    <th>0.975]</th>  \n",
       "</tr>\n",
       "<tr>\n",
       "  <th>x0</th> <td>    2.1613</td> <td>    0.196</td> <td>   11.028</td> <td> 0.000</td> <td>    1.698</td> <td>    2.625</td>\n",
       "</tr>\n",
       "<tr>\n",
       "  <th>x1</th> <td>    3.0052</td> <td>    0.147</td> <td>   20.438</td> <td> 0.000</td> <td>    2.657</td> <td>    3.353</td>\n",
       "</tr>\n",
       "<tr>\n",
       "  <th>x2</th> <td>   -0.9695</td> <td>    0.085</td> <td>  -11.419</td> <td> 0.000</td> <td>   -1.170</td> <td>   -0.769</td>\n",
       "</tr>\n",
       "</table>\n",
       "<table class=\"simpletable\">\n",
       "<tr>\n",
       "  <th>Omnibus:</th>       <td> 2.321</td> <th>  Durbin-Watson:     </th> <td>   1.767</td>\n",
       "</tr>\n",
       "<tr>\n",
       "  <th>Prob(Omnibus):</th> <td> 0.313</td> <th>  Jarque-Bera (JB):  </th> <td>   0.883</td>\n",
       "</tr>\n",
       "<tr>\n",
       "  <th>Skew:</th>          <td>-0.099</td> <th>  Prob(JB):          </th> <td>   0.643</td>\n",
       "</tr>\n",
       "<tr>\n",
       "  <th>Kurtosis:</th>      <td> 1.558</td> <th>  Cond. No.          </th> <td>    2.68</td>\n",
       "</tr>\n",
       "</table><br/><br/>Warnings:<br/>[1] Standard Errors assume that the covariance matrix of the errors is correctly specified."
      ],
      "text/plain": [
       "<class 'statsmodels.iolib.summary.Summary'>\n",
       "\"\"\"\n",
       "                            OLS Regression Results                            \n",
       "==============================================================================\n",
       "Dep. Variable:                      y   R-squared:                       0.988\n",
       "Model:                            OLS   Adj. R-squared:                  0.985\n",
       "Method:                 Least Squares   F-statistic:                     298.3\n",
       "Date:                Wed, 20 Jun 2018   Prob (F-statistic):           1.68e-07\n",
       "Time:                        10:41:46   Log-Likelihood:                -6.5767\n",
       "No. Observations:                  10   AIC:                             19.15\n",
       "Df Residuals:                       7   BIC:                             20.06\n",
       "Df Model:                           2                                         \n",
       "Covariance Type:            nonrobust                                         \n",
       "==============================================================================\n",
       "                 coef    std err          t      P>|t|      [0.025      0.975]\n",
       "------------------------------------------------------------------------------\n",
       "x0             2.1613      0.196     11.028      0.000       1.698       2.625\n",
       "x1             3.0052      0.147     20.438      0.000       2.657       3.353\n",
       "x2            -0.9695      0.085    -11.419      0.000      -1.170      -0.769\n",
       "==============================================================================\n",
       "Omnibus:                        2.321   Durbin-Watson:                   1.767\n",
       "Prob(Omnibus):                  0.313   Jarque-Bera (JB):                0.883\n",
       "Skew:                          -0.099   Prob(JB):                        0.643\n",
       "Kurtosis:                       1.558   Cond. No.                         2.68\n",
       "==============================================================================\n",
       "\n",
       "Warnings:\n",
       "[1] Standard Errors assume that the covariance matrix of the errors is correctly specified.\n",
       "\"\"\""
      ]
     },
     "execution_count": 66,
     "metadata": {},
     "output_type": "execute_result"
    }
   ],
   "source": [
    "z = pd.DataFrame({'x0': 1,'x1':x1, 'x2':x2})\n",
    "z1 = sm.OLS(y, z).fit()\n",
    "z1.summary()"
   ]
  },
  {
   "cell_type": "code",
   "execution_count": 68,
   "metadata": {},
   "outputs": [
    {
     "name": "stdout",
     "output_type": "stream",
     "text": [
      "[ 1.83622294  2.56235664  1.14316809 -2.94871456  3.09653031  5.1746697\n",
      "  5.66390628 -0.9552308  13.76015876  5.06200238]\n",
      "0.31165436857160284\n",
      "0.3116543685716029\n"
     ]
    },
    {
     "data": {
      "text/plain": [
       "0.5582601262597956"
      ]
     },
     "execution_count": 68,
     "metadata": {},
     "output_type": "execute_result"
    }
   ],
   "source": [
    "Y1 = (np.concatenate((np.ones(x1.size).reshape(x1.size, 1), x1.reshape(x1.size, 1), x2.reshape(x2.size, 1)), axis = 1)).T @ z1.params\n",
    "print(Y1)\n",
    "d = z.columns.values.size\n",
    "s = ((y - Y1)**2).sum()/(n-d)\n",
    "print(z1.scale)\n",
    "print(s)\n",
    "s**(0.5)"
   ]
  },
  {
   "cell_type": "code",
   "execution_count": 69,
   "metadata": {},
   "outputs": [
    {
     "name": "stdout",
     "output_type": "stream",
     "text": [
      "29.30450120843192\n",
      "[29.30450121]\n"
     ]
    }
   ],
   "source": [
    "xast = np.array([1, 10, 3])\n",
    "yast = xast @ z1.params\n",
    "print(yast)\n",
    "print(z1.predict(xast))"
   ]
  },
  {
   "cell_type": "code",
   "execution_count": 70,
   "metadata": {},
   "outputs": [
    {
     "data": {
      "text/plain": [
       "2.750131235005511"
      ]
     },
     "execution_count": 70,
     "metadata": {},
     "output_type": "execute_result"
    }
   ],
   "source": [
    "X = np.concatenate((np.ones(x1.size).reshape(x1.size, 1), x1.reshape(x1.size, 1), x2.reshape(x2.size, 1)), axis = 1)\n",
    "p = (xast @ np.linalg.inv(X.T@X) @ xast.T)**0.5\n",
    "p"
   ]
  },
  {
   "cell_type": "code",
   "execution_count": null,
   "metadata": {},
   "outputs": [],
   "source": []
  }
 ],
 "metadata": {
  "kernelspec": {
   "display_name": "Python 3",
   "language": "python",
   "name": "python3"
  },
  "language_info": {
   "codemirror_mode": {
    "name": "ipython",
    "version": 3
   },
   "file_extension": ".py",
   "mimetype": "text/x-python",
   "name": "python",
   "nbconvert_exporter": "python",
   "pygments_lexer": "ipython3",
   "version": "3.6.5"
  }
 },
 "nbformat": 4,
 "nbformat_minor": 2
}
