{
 "cells": [
  {
   "cell_type": "code",
   "execution_count": 38,
   "metadata": {},
   "outputs": [],
   "source": [
    "import numpy as np\n",
    "import matplotlib.pyplot as plt\n",
    "import scipy.stats as st\n",
    "from statsmodels.distributions.empirical_distribution import ECDF\n",
    "from scipy.stats import kstest"
   ]
  },
  {
   "cell_type": "code",
   "execution_count": 36,
   "metadata": {},
   "outputs": [
    {
     "name": "stdout",
     "output_type": "stream",
     "text": [
      "[ 18  21  48  48  60  63  84 100 116 117 118 133 135 163 171 174 175 213\n",
      " 219 230 327 327 356 384 410]\n",
      "Range = 392\n",
      "Median = 135.0\n",
      "Lower quartile = 84.0\n",
      "Upper qurtile = 219.0\n"
     ]
    }
   ],
   "source": [
    "x = [48, 84, 21, 63, 219, 133, 327, 213, 118, 171, 356, 117,\n",
    "175, 163, 230, 135, 18, 116, 174, 384, 100, 60, 327, 48, 410]\n",
    "x = np.sort(x)\n",
    "print(x)\n",
    "range_x = x.max() - x.min()\n",
    "print(\"Range = \" + str(range_x))\n",
    "print(\"Median = \" + str(np.median(x)))\n",
    "print(\"Lower quartile = \" + str(np.percentile(x, 25)))\n",
    "print(\"Upper qurtile = \" + str(np.percentile(x, 75)))"
   ]
  },
  {
   "cell_type": "code",
   "execution_count": 22,
   "metadata": {},
   "outputs": [
    {
     "name": "stdout",
     "output_type": "stream",
     "text": [
      "<scipy.stats._distn_infrastructure.rv_frozen object at 0x000001998E3F4828>\n"
     ]
    }
   ],
   "source": [
    "uniform = st.uniform(0, 240)\n",
    "print(uniform)"
   ]
  },
  {
   "cell_type": "code",
   "execution_count": 32,
   "metadata": {},
   "outputs": [
    {
     "data": {
      "text/plain": [
       "0.3989422804014327"
      ]
     },
     "execution_count": 32,
     "metadata": {},
     "output_type": "execute_result"
    }
   ],
   "source": [
    "st.norm.pdf(0)"
   ]
  },
  {
   "cell_type": "code",
   "execution_count": 24,
   "metadata": {},
   "outputs": [],
   "source": [
    "x = np.linspace(0, 240, 1)\n"
   ]
  },
  {
   "cell_type": "code",
   "execution_count": 39,
   "metadata": {},
   "outputs": [
    {
     "name": "stdout",
     "output_type": "stream",
     "text": [
      "[0.04 0.08 0.16 0.16 0.2  0.24 0.28 0.32 0.36 0.4  0.44 0.48 0.52 0.56\n",
      " 0.6  0.64 0.68 0.72 0.76 0.8  0.88 0.88 0.92 0.96 1.  ]\n",
      "KstestResult(statistic=1.0, pvalue=0.0)\n"
     ]
    }
   ],
   "source": [
    "ecdf = ECDF(x)\n",
    "print(ecdf(x))\n",
    "print(kstest(x, 'norm'))"
   ]
  },
  {
   "cell_type": "code",
   "execution_count": null,
   "metadata": {},
   "outputs": [],
   "source": []
  }
 ],
 "metadata": {
  "kernelspec": {
   "display_name": "Python 3",
   "language": "python",
   "name": "python3"
  },
  "language_info": {
   "codemirror_mode": {
    "name": "ipython",
    "version": 3
   },
   "file_extension": ".py",
   "mimetype": "text/x-python",
   "name": "python",
   "nbconvert_exporter": "python",
   "pygments_lexer": "ipython3",
   "version": "3.6.5"
  }
 },
 "nbformat": 4,
 "nbformat_minor": 2
}
